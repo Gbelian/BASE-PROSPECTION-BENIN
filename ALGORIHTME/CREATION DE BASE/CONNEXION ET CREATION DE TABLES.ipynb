{
 "cells": [
  {
   "cell_type": "code",
   "execution_count": 3,
   "id": "00d3ca8e",
   "metadata": {},
   "outputs": [
    {
     "name": "stdout",
     "output_type": "stream",
     "text": [
      "Connexion à la base de données PostgreSQL réussie.\n"
     ]
    }
   ],
   "source": [
    "import psycopg2\n",
    "\n",
    "# Paramètres de connexion à la base de données\n",
    "db_params = {\n",
    "    'host': 'localhost',\n",
    "    'database': 'waouh_base',\n",
    "    'user': 'waouhmonde',\n",
    "    'password': 'waouhmonde',\n",
    "    'port': '5432'\n",
    "}\n",
    "\n",
    "try:\n",
    "    # Établir une connexion à la base de données\n",
    "    conn = psycopg2.connect(**db_params)\n",
    "\n",
    "    # Afficher un message si la connexion réussit\n",
    "    print(\"Connexion à la base de données PostgreSQL réussie.\")\n",
    "\n",
    "    # Fermer la connexion\n",
    "    conn.close()\n",
    "\n",
    "except Exception as e:\n",
    "    print(f\"Erreur de connexion à la base de données : {e}\")"
   ]
  },
  {
   "cell_type": "markdown",
   "id": "250c6e94",
   "metadata": {},
   "source": [
    "### Particular"
   ]
  },
  {
   "cell_type": "code",
   "execution_count": 6,
   "id": "dfd25f70",
   "metadata": {},
   "outputs": [
    {
     "name": "stdout",
     "output_type": "stream",
     "text": [
      "Tables créées avec succès.\n"
     ]
    }
   ],
   "source": [
    "import psycopg2\n",
    "\n",
    "# Paramètres de connexion à la base de données\n",
    "dbname = \"waouh_base\"\n",
    "user = \"waouhmonde\"\n",
    "password = \"waouhmonde\"\n",
    "host = \"localhost\"\n",
    "port = \"5432\"\n",
    "\n",
    "# Connexion à la base de données\n",
    "conn = psycopg2.connect(dbname=dbname, user=user, password=password, host=host, port=port)\n",
    "cur = conn.cursor()\n",
    "\n",
    "# Création de la table Clients\n",
    "cur.execute(\"\"\"\n",
    "    CREATE TABLE IF NOT EXISTS Clients (\n",
    "        client_id SERIAL PRIMARY KEY,\n",
    "        nom VARCHAR(100) DEFAULT NULL,\n",
    "        prenom VARCHAR(100) DEFAULT NULL,\n",
    "        civilite VARCHAR(100) DEFAULT NULL,\n",
    "        date_naissance DATE DEFAULT NULL,\n",
    "        adresse VARCHAR(100) DEFAULT NULL,\n",
    "        localite VARCHAR(100) DEFAULT NULL,\n",
    "        ville VARCHAR(100) DEFAULT NULL,\n",
    "        commune VARCHAR(100) DEFAULT NULL,\n",
    "        département VARCHAR(100) DEFAULT NULL,\n",
    "        pays VARCHAR(100) DEFAULT NULL,\n",
    "        numero_identification VARCHAR(50) DEFAULT NULL,\n",
    "        region VARCHAR(100) DEFAULT NULL,\n",
    "        code_postal VARCHAR(100) DEFAULT NULL,\n",
    "        opt_in BOOLEAN,\n",
    "        status_sms BOOLEAN,\n",
    "        status_appel BOOLEAN,\n",
    "        status_mail BOOLEAN,\n",
    "        numero_telephone VARCHAR(100) DEFAULT NULL,\n",
    "        langue_preferee VARCHAR(100) DEFAULT NULL,\n",
    "        Date_mise_a_jour TIMESTAMP DEFAULT CURRENT_TIMESTAMP\n",
    "    )\n",
    "\"\"\")\n",
    "\n",
    "# Création de la table Contacts\n",
    "cur.execute(\"\"\"\n",
    "    CREATE TABLE IF NOT EXISTS Contacts_Clients (\n",
    "        contact_id SERIAL PRIMARY KEY,\n",
    "        client_id INT,\n",
    "        type VARCHAR(50) DEFAULT NULL,\n",
    "        valeur TEXT DEFAULT NULL,\n",
    "        sources VARCHAR(100) DEFAULT NULL,\n",
    "        status BOOLEAN,\n",
    "        Date_mise_a_jour TIMESTAMP DEFAULT CURRENT_TIMESTAMP,\n",
    "        FOREIGN KEY (client_id) REFERENCES Clients(client_id)\n",
    "    )\n",
    "\"\"\")\n",
    "\n",
    "# Valider les modifications et fermer la connexion\n",
    "conn.commit()\n",
    "cur.close()\n",
    "conn.close()\n",
    "\n",
    "print('Tables créées avec succès.')"
   ]
  },
  {
   "cell_type": "markdown",
   "id": "012d3341",
   "metadata": {},
   "source": [
    "### Entreprises"
   ]
  },
  {
   "cell_type": "code",
   "execution_count": 14,
   "id": "6196489a",
   "metadata": {},
   "outputs": [
    {
     "name": "stdout",
     "output_type": "stream",
     "text": [
      "Tables Entreprises créées avec succès.\n"
     ]
    }
   ],
   "source": [
    "import psycopg2\n",
    "\n",
    "# Paramètres de connexion à la base de données\n",
    "dbname = \"waouh_base\"\n",
    "user = \"waouhmonde\"\n",
    "password = \"waouhmonde\"\n",
    "host = \"localhost\"\n",
    "port = \"5432\"\n",
    "\n",
    "# Connexion à la base de données\n",
    "conn = psycopg2.connect(dbname=dbname, user=user, password=password, host=host, port=port)\n",
    "cur = conn.cursor()\n",
    "\n",
    "# Création de la table Entreprises\n",
    "cur.execute(\"\"\"\n",
    "    CREATE TABLE IF NOT EXISTS Entreprises (\n",
    "        entreprise_id SERIAL PRIMARY KEY,\n",
    "        nom VARCHAR(200) DEFAULT NULL,\n",
    "        secteur_activite VARCHAR(200) DEFAULT NULL,\n",
    "        site_web VARCHAR(200) DEFAULT NULL,\n",
    "        chiffre_affaires DECIMAL(15, 2) DEFAULT NULL,\n",
    "        numero_identification VARCHAR(50) DEFAULT NULL,\n",
    "        adresse VARCHAR(300) DEFAULT NULL,\n",
    "        localite VARCHAR(100) DEFAULT NULL,\n",
    "        ville VARCHAR(100) DEFAULT NULL,\n",
    "        commune VARCHAR(100) DEFAULT NULL,\n",
    "        departement VARCHAR(100) DEFAULT NULL,\n",
    "        pays VARCHAR(100) DEFAULT NULL,\n",
    "        code_postal VARCHAR(100) DEFAULT NULL,\n",
    "        opt_in BOOLEAN,\n",
    "        status_sms BOOLEAN,\n",
    "        status_appel BOOLEAN,\n",
    "        status_mail BOOLEAN,\n",
    "        Date_mise_a_jour TIMESTAMP DEFAULT CURRENT_TIMESTAMP\n",
    "    )\n",
    "\"\"\")\n",
    "\n",
    "# Création de la table Contacts_Entreprise\n",
    "cur.execute(\"\"\"\n",
    "    CREATE TABLE IF NOT EXISTS Contacts_Entreprises (\n",
    "        contact_id SERIAL PRIMARY KEY,\n",
    "        entreprise_id INT,\n",
    "        type VARCHAR(50) DEFAULT NULL,\n",
    "        valeur TEXT DEFAULT NULL,\n",
    "        sources VARCHAR(100) DEFAULT NULL,\n",
    "        status BOOLEAN,\n",
    "        Date_mise_a_jour TIMESTAMP DEFAULT CURRENT_TIMESTAMP,\n",
    "        FOREIGN KEY (entreprise_id) REFERENCES Entreprises(entreprise_id)\n",
    "    )\n",
    "\"\"\")\n",
    "\n",
    "# Valider les modifications et fermer la connexion\n",
    "conn.commit()\n",
    "cur.close()\n",
    "conn.close()\n",
    "\n",
    "print('Tables Entreprises créées avec succès.')"
   ]
  },
  {
   "cell_type": "markdown",
   "id": "19a48e10",
   "metadata": {},
   "source": [
    "### Visualisations"
   ]
  },
  {
   "cell_type": "code",
   "execution_count": 13,
   "id": "50094355",
   "metadata": {},
   "outputs": [
    {
     "name": "stdout",
     "output_type": "stream",
     "text": [
      "\n",
      "Table: Clients\n",
      "Colonnes: client_id, nom, prenom, civilite, date_naissance, adresse, localite, ville, commune, département, pays, numero_identification, region, code_postal, opt_in, status_sms, status_appel, status_mail, numero_telephone, langue_preferee, date_mise_a_jour\n",
      "Nombre de lignes: 0\n",
      "\n",
      "\n",
      "Table: Contacts_Clients\n",
      "Colonnes: contact_id, client_id, type, valeur, sources, status, date_mise_a_jour\n",
      "Nombre de lignes: 0\n",
      "\n"
     ]
    },
    {
     "ename": "UndefinedTable",
     "evalue": "ERREUR:  la relation « contacts_entreprises » n'existe pas\nLINE 1: SELECT * FROM Contacts_Entreprises LIMIT 0;\n                      ^\n",
     "output_type": "error",
     "traceback": [
      "\u001b[1;31m---------------------------------------------------------------------------\u001b[0m",
      "\u001b[1;31mUndefinedTable\u001b[0m                            Traceback (most recent call last)",
      "Cell \u001b[1;32mIn[13], line 33\u001b[0m\n\u001b[0;32m     31\u001b[0m \u001b[38;5;66;03m# Affichage des colonnes et du nombre de lignes pour chaque table\u001b[39;00m\n\u001b[0;32m     32\u001b[0m \u001b[38;5;28;01mfor\u001b[39;00m table_name \u001b[38;5;129;01min\u001b[39;00m tables_to_check:\n\u001b[1;32m---> 33\u001b[0m     columns \u001b[38;5;241m=\u001b[39m get_columns(table_name)\n\u001b[0;32m     34\u001b[0m     row_count \u001b[38;5;241m=\u001b[39m get_row_count(table_name)\n\u001b[0;32m     35\u001b[0m     \u001b[38;5;28mprint\u001b[39m(\u001b[38;5;124mf\u001b[39m\u001b[38;5;124m\"\u001b[39m\u001b[38;5;130;01m\\n\u001b[39;00m\u001b[38;5;124mTable: \u001b[39m\u001b[38;5;132;01m{\u001b[39;00mtable_name\u001b[38;5;132;01m}\u001b[39;00m\u001b[38;5;124m\"\u001b[39m)\n",
      "Cell \u001b[1;32mIn[13], line 17\u001b[0m, in \u001b[0;36mget_columns\u001b[1;34m(table_name)\u001b[0m\n\u001b[0;32m     15\u001b[0m \u001b[38;5;28;01mdef\u001b[39;00m \u001b[38;5;21mget_columns\u001b[39m(table_name):\n\u001b[0;32m     16\u001b[0m     query \u001b[38;5;241m=\u001b[39m \u001b[38;5;124mf\u001b[39m\u001b[38;5;124m\"\u001b[39m\u001b[38;5;124mSELECT * FROM \u001b[39m\u001b[38;5;132;01m{\u001b[39;00mtable_name\u001b[38;5;132;01m}\u001b[39;00m\u001b[38;5;124m LIMIT 0;\u001b[39m\u001b[38;5;124m\"\u001b[39m\n\u001b[1;32m---> 17\u001b[0m     cur\u001b[38;5;241m.\u001b[39mexecute(query)\n\u001b[0;32m     18\u001b[0m     columns \u001b[38;5;241m=\u001b[39m [desc[\u001b[38;5;241m0\u001b[39m] \u001b[38;5;28;01mfor\u001b[39;00m desc \u001b[38;5;129;01min\u001b[39;00m cur\u001b[38;5;241m.\u001b[39mdescription]\n\u001b[0;32m     19\u001b[0m     \u001b[38;5;28;01mreturn\u001b[39;00m columns\n",
      "\u001b[1;31mUndefinedTable\u001b[0m: ERREUR:  la relation « contacts_entreprises » n'existe pas\nLINE 1: SELECT * FROM Contacts_Entreprises LIMIT 0;\n                      ^\n"
     ]
    }
   ],
   "source": [
    "import psycopg2\n",
    "\n",
    "# Connexion à la base de données (assurez-vous de remplacer les valeurs par vos propres paramètres)\n",
    "conn = psycopg2.connect(\n",
    "    host=\"localhost\",\n",
    "    database=\"waouh_base\",\n",
    "    user=\"waouhmonde\",\n",
    "    password=\"waouhmonde\"\n",
    ")\n",
    "\n",
    "# Création d'un curseur\n",
    "cur = conn.cursor()\n",
    "\n",
    "# Fonction pour obtenir les colonnes d'une table\n",
    "def get_columns(table_name):\n",
    "    query = f\"SELECT * FROM {table_name} LIMIT 0;\"\n",
    "    cur.execute(query)\n",
    "    columns = [desc[0] for desc in cur.description]\n",
    "    return columns\n",
    "\n",
    "# Fonction pour obtenir le nombre de lignes dans une table\n",
    "def get_row_count(table_name):\n",
    "    query = f\"SELECT COUNT(*) FROM {table_name};\"\n",
    "    cur.execute(query)\n",
    "    row_count = cur.fetchone()[0]\n",
    "    return row_count\n",
    "\n",
    "# Liste des tables que vous souhaitez visualiser\n",
    "tables_to_check = [\"Clients\", \"Contacts_Clients\", \"Contacts_Entreprises\"]\n",
    "\n",
    "# Affichage des colonnes et du nombre de lignes pour chaque table\n",
    "for table_name in tables_to_check:\n",
    "    columns = get_columns(table_name)\n",
    "    row_count = get_row_count(table_name)\n",
    "    print(f\"\\nTable: {table_name}\")\n",
    "    print(f\"Colonnes: {', '.join(columns)}\")\n",
    "    print(f\"Nombre de lignes: {row_count}\\n\")\n",
    "\n",
    "# Fermeture de la connexion\n",
    "cur.close()\n",
    "conn.close()"
   ]
  },
  {
   "cell_type": "code",
   "execution_count": null,
   "id": "57599eb2",
   "metadata": {},
   "outputs": [],
   "source": []
  }
 ],
 "metadata": {
  "kernelspec": {
   "display_name": "Python 3 (ipykernel)",
   "language": "python",
   "name": "python3"
  },
  "language_info": {
   "codemirror_mode": {
    "name": "ipython",
    "version": 3
   },
   "file_extension": ".py",
   "mimetype": "text/x-python",
   "name": "python",
   "nbconvert_exporter": "python",
   "pygments_lexer": "ipython3",
   "version": "3.11.5"
  }
 },
 "nbformat": 4,
 "nbformat_minor": 5
}
